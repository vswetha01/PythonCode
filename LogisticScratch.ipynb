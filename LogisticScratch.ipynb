{
 "cells": [
  {
   "cell_type": "code",
   "execution_count": 1,
   "metadata": {
    "collapsed": false
   },
   "outputs": [
    {
     "name": "stdout",
     "output_type": "stream",
     "text": [
      "[[   0.    380.      3.61    3.  ]\n",
      " [   1.    660.      3.67    3.  ]\n",
      " [   1.    800.      4.      1.  ]\n",
      " [   1.    640.      3.19    4.  ]\n",
      " [   0.    520.      2.93    4.  ]\n",
      " [   1.    760.      3.      2.  ]\n",
      " [   1.    560.      2.98    1.  ]\n",
      " [   0.    400.      3.08    2.  ]\n",
      " [   1.    540.      3.39    3.  ]\n",
      " [   0.    700.      3.92    2.  ]]\n"
     ]
    }
   ],
   "source": [
    "import numpy as np\n",
    "import urllib2\n",
    "response = urllib2.urlopen(\"http://www.ats.ucla.edu/stat/data/binary.csv\")\n",
    "\n",
    "data = np.genfromtxt(response, delimiter=',', skip_header=1)\n",
    "print data[0:10,]"
   ]
  },
  {
   "cell_type": "code",
   "execution_count": null,
   "metadata": {
    "collapsed": true
   },
   "outputs": [],
   "source": [
    "#write logistic regression with gradient descent\n",
    "#plot the cross entropy as a function of the number of steps\n",
    "# col1 = Y col2 = x1 col3 = x2 col4 = x3\n",
    "\n",
    "def gradientfunction():\n",
    "    # \n",
    "\n",
    "\n"
   ]
  }
 ],
 "metadata": {
  "kernelspec": {
   "display_name": "Python 2",
   "language": "python",
   "name": "python2"
  },
  "language_info": {
   "codemirror_mode": {
    "name": "ipython",
    "version": 2
   },
   "file_extension": ".py",
   "mimetype": "text/x-python",
   "name": "python",
   "nbconvert_exporter": "python",
   "pygments_lexer": "ipython2",
   "version": "2.7.11"
  }
 },
 "nbformat": 4,
 "nbformat_minor": 0
}
