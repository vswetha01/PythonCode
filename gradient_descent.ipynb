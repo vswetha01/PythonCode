{
 "cells": [
  {
   "cell_type": "code",
   "execution_count": 1,
   "metadata": {
    "collapsed": false
   },
   "outputs": [
    {
     "name": "stdout",
     "output_type": "stream",
     "text": [
      "[[5 1 4 5 1]\n",
      " [0 5 2 1 4]\n",
      " [1 4 1 1 2]\n",
      " [4 1 5 5 4]\n",
      " [5 3 4 5 4]\n",
      " [1 5 1 1 1]\n",
      " [5 1 0 5 4]]\n",
      "[[1 1 1 1 1]\n",
      " [0 1 1 1 1]\n",
      " [1 1 1 1 1]\n",
      " [1 1 1 1 1]\n",
      " [1 1 1 1 1]\n",
      " [1 1 1 1 1]\n",
      " [1 1 0 1 1]]\n"
     ]
    }
   ],
   "source": [
    "import numpy as np\n",
    "Y = np.array([[5, 1, 4, 5, 1], [0, 5, 2, 1, 4], [1, 4, 1, 1, 2],\\\n",
    "              [4, 1, 5, 5, 4], [5, 3, 4, 5, 4], [1, 5, 1, 1, 1], \\\n",
    "              [5, 1, 0, 5, 4]])\n",
    "\n",
    "R = np.array([[1,1,1,1,1],[0,1,1,1,1],[1,1,1,1,1],\n",
    "              [1,1,1,1,1],[1,1,1,1,1],[1,1,1,1,1],\n",
    "              [1,1,0,1,1]])\n",
    "print(Y)\n",
    "print R"
   ]
  },
  {
   "cell_type": "code",
   "execution_count": 2,
   "metadata": {
    "collapsed": false
   },
   "outputs": [
    {
     "name": "stdout",
     "output_type": "stream",
     "text": [
      "(7, 2)\n"
     ]
    }
   ],
   "source": [
    "U = np.random.random((7,2))\n",
    "print U.shape"
   ]
  },
  {
   "cell_type": "code",
   "execution_count": 3,
   "metadata": {
    "collapsed": false
   },
   "outputs": [
    {
     "name": "stdout",
     "output_type": "stream",
     "text": [
      "[[ 0.82397402  0.60852427]\n",
      " [ 0.50909601  0.49249144]\n",
      " [ 0.25436493  0.33653035]\n",
      " [ 0.98762177  0.18856459]\n",
      " [ 0.85740707  0.28557033]]\n"
     ]
    }
   ],
   "source": [
    "V = np.random.random((5,2))\n",
    "print V"
   ]
  },
  {
   "cell_type": "code",
   "execution_count": 4,
   "metadata": {
    "collapsed": false
   },
   "outputs": [
    {
     "name": "stdout",
     "output_type": "stream",
     "text": [
      "(2, 5)\n",
      "(5, 2)\n"
     ]
    }
   ],
   "source": [
    "V_t = np.transpose(V)\n",
    "print V_t.shape\n",
    "print V.shape"
   ]
  },
  {
   "cell_type": "code",
   "execution_count": 12,
   "metadata": {
    "collapsed": false
   },
   "outputs": [
    {
     "name": "stdout",
     "output_type": "stream",
     "text": [
      "[[ 0.39417389  0.06546471]\n",
      " [ 0.97543933  0.69108896]\n",
      " [ 0.76484684  0.69724213]\n",
      " [ 0.77081656  0.02274227]\n",
      " [ 0.39221205  0.09461844]\n",
      " [ 0.10174674  0.27917272]\n",
      " [ 0.22890381  0.78488505]]\n",
      "[[ 0.82397402  0.60852427]\n",
      " [ 0.50909601  0.49249144]\n",
      " [ 0.25436493  0.33653035]\n",
      " [ 0.98762177  0.18856459]\n",
      " [ 0.85740707  0.28557033]]\n",
      "(7, 2)\n",
      "(5, 2)\n"
     ]
    }
   ],
   "source": [
    "U_new = U + 2* (1/33)*(0.01)* np.dot((R*(Y-(np.dot(U, V_t)))), V) \n",
    "V_new = V + 2* float(1/33)*(0.01)* np.dot(np.transpose(R*(Y-(np.dot(U, V_t)))), U) \n",
    "\n",
    "print U_new\n",
    "print V_new\n",
    "\n",
    "print U_new.shape\n",
    "print V_new.shape\n"
   ]
  },
  {
   "cell_type": "code",
   "execution_count": 9,
   "metadata": {
    "collapsed": false
   },
   "outputs": [
    {
     "ename": "TypeError",
     "evalue": "only length-1 arrays can be converted to Python scalars",
     "output_type": "error",
     "traceback": [
      "\u001b[0;31m---------------------------------------------------------------------------\u001b[0m",
      "\u001b[0;31mTypeError\u001b[0m                                 Traceback (most recent call last)",
      "\u001b[0;32m<ipython-input-9-729a53236a1f>\u001b[0m in \u001b[0;36m<module>\u001b[0;34m()\u001b[0m\n\u001b[0;32m----> 1\u001b[0;31m \u001b[0merror\u001b[0m \u001b[0;34m=\u001b[0m \u001b[0;34m(\u001b[0m\u001b[0;36m1\u001b[0m\u001b[0;34m/\u001b[0m\u001b[0;36m33\u001b[0m\u001b[0;34m)\u001b[0m\u001b[0;34m*\u001b[0m\u001b[0mfloat\u001b[0m\u001b[0;34m(\u001b[0m\u001b[0mY\u001b[0m \u001b[0;34m-\u001b[0m \u001b[0mnp\u001b[0m\u001b[0;34m.\u001b[0m\u001b[0mdot\u001b[0m\u001b[0;34m(\u001b[0m\u001b[0mU\u001b[0m\u001b[0;34m,\u001b[0m \u001b[0mnp\u001b[0m\u001b[0;34m.\u001b[0m\u001b[0mtranspose\u001b[0m\u001b[0;34m(\u001b[0m\u001b[0mV\u001b[0m\u001b[0;34m)\u001b[0m\u001b[0;34m)\u001b[0m\u001b[0;34m)\u001b[0m\u001b[0;34m\u001b[0m\u001b[0m\n\u001b[0m\u001b[1;32m      2\u001b[0m \u001b[0;32mprint\u001b[0m \u001b[0merror\u001b[0m\u001b[0;34m\u001b[0m\u001b[0m\n",
      "\u001b[0;31mTypeError\u001b[0m: only length-1 arrays can be converted to Python scalars"
     ]
    }
   ],
   "source": [
    "error = (1/33)*float(Y - np.dot(U, np.transpose(V)))\n",
    "print error"
   ]
  },
  {
   "cell_type": "code",
   "execution_count": null,
   "metadata": {
    "collapsed": true
   },
   "outputs": [],
   "source": []
  }
 ],
 "metadata": {
  "kernelspec": {
   "display_name": "Python 2",
   "language": "python",
   "name": "python2"
  },
  "language_info": {
   "codemirror_mode": {
    "name": "ipython",
    "version": 2
   },
   "file_extension": ".py",
   "mimetype": "text/x-python",
   "name": "python",
   "nbconvert_exporter": "python",
   "pygments_lexer": "ipython2",
   "version": "2.7.11"
  }
 },
 "nbformat": 4,
 "nbformat_minor": 0
}
